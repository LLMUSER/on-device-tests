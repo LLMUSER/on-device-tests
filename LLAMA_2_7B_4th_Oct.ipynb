{
  "nbformat": 4,
  "nbformat_minor": 0,
  "metadata": {
    "colab": {
      "provenance": [],
      "gpuType": "T4",
      "authorship_tag": "ABX9TyMI4Knz92pW5mfjBOCI6Fuw",
      "include_colab_link": true
    },
    "kernelspec": {
      "name": "python3",
      "display_name": "Python 3"
    },
    "language_info": {
      "name": "python"
    },
    "accelerator": "GPU"
  },
  "cells": [
    {
      "cell_type": "markdown",
      "metadata": {
        "id": "view-in-github",
        "colab_type": "text"
      },
      "source": [
        "<a href=\"https://colab.research.google.com/github/LLMUSER/on-device-tests/blob/main/LLAMA_2_7B_4th_Oct.ipynb\" target=\"_parent\"><img src=\"https://colab.research.google.com/assets/colab-badge.svg\" alt=\"Open In Colab\"/></a>"
      ]
    },
    {
      "cell_type": "code",
      "execution_count": 1,
      "metadata": {
        "colab": {
          "base_uri": "https://localhost:8080/"
        },
        "id": "nJdXZAfo4qtG",
        "outputId": "5a4b5a5a-89e6-4d19-e91f-c001a656fafd"
      },
      "outputs": [
        {
          "output_type": "stream",
          "name": "stdout",
          "text": [
            "--2023-10-04 13:36:23--  https://bin.equinox.io/c/4VmDzA7iaHb/ngrok-stable-linux-amd64.zip\n",
            "Resolving bin.equinox.io (bin.equinox.io)... 52.202.168.65, 54.237.133.81, 54.161.241.46, ...\n",
            "Connecting to bin.equinox.io (bin.equinox.io)|52.202.168.65|:443... connected.\n",
            "HTTP request sent, awaiting response... 200 OK\n",
            "Length: 13921656 (13M) [application/octet-stream]\n",
            "Saving to: ‘ngrok-stable-linux-amd64.zip’\n",
            "\n",
            "ngrok-stable-linux- 100%[===================>]  13.28M  5.78MB/s    in 2.3s    \n",
            "\n",
            "2023-10-04 13:36:26 (5.78 MB/s) - ‘ngrok-stable-linux-amd64.zip’ saved [13921656/13921656]\n",
            "\n"
          ]
        }
      ],
      "source": [
        "!wget https://bin.equinox.io/c/4VmDzA7iaHb/ngrok-stable-linux-amd64.zip"
      ]
    },
    {
      "cell_type": "code",
      "source": [
        "!pip install streamlit"
      ],
      "metadata": {
        "colab": {
          "base_uri": "https://localhost:8080/"
        },
        "id": "SnOHpQEI_lKV",
        "outputId": "390ff073-c3ae-48c9-d592-ba28a7a6dbac"
      },
      "execution_count": 21,
      "outputs": [
        {
          "output_type": "stream",
          "name": "stdout",
          "text": [
            "Collecting streamlit\n",
            "  Downloading streamlit-1.27.2-py2.py3-none-any.whl (7.6 MB)\n",
            "\u001b[2K     \u001b[90m━━━━━━━━━━━━━━━━━━━━━━━━━━━━━━━━━━━━━━━━\u001b[0m \u001b[32m7.6/7.6 MB\u001b[0m \u001b[31m51.5 MB/s\u001b[0m eta \u001b[36m0:00:00\u001b[0m\n",
            "\u001b[?25hRequirement already satisfied: altair<6,>=4.0 in /usr/local/lib/python3.10/dist-packages (from streamlit) (4.2.2)\n",
            "Requirement already satisfied: blinker<2,>=1.0.0 in /usr/lib/python3/dist-packages (from streamlit) (1.4)\n",
            "Requirement already satisfied: cachetools<6,>=4.0 in /usr/local/lib/python3.10/dist-packages (from streamlit) (5.3.1)\n",
            "Requirement already satisfied: click<9,>=7.0 in /usr/local/lib/python3.10/dist-packages (from streamlit) (8.1.7)\n",
            "Requirement already satisfied: importlib-metadata<7,>=1.4 in /usr/local/lib/python3.10/dist-packages (from streamlit) (6.8.0)\n",
            "Requirement already satisfied: numpy<2,>=1.19.3 in /usr/local/lib/python3.10/dist-packages (from streamlit) (1.23.5)\n",
            "Requirement already satisfied: packaging<24,>=16.8 in /usr/local/lib/python3.10/dist-packages (from streamlit) (23.1)\n",
            "Requirement already satisfied: pandas<3,>=1.3.0 in /usr/local/lib/python3.10/dist-packages (from streamlit) (1.5.3)\n",
            "Requirement already satisfied: pillow<11,>=7.1.0 in /usr/local/lib/python3.10/dist-packages (from streamlit) (9.4.0)\n",
            "Requirement already satisfied: protobuf<5,>=3.20 in /usr/local/lib/python3.10/dist-packages (from streamlit) (3.20.3)\n",
            "Requirement already satisfied: pyarrow>=6.0 in /usr/local/lib/python3.10/dist-packages (from streamlit) (9.0.0)\n",
            "Requirement already satisfied: python-dateutil<3,>=2.7.3 in /usr/local/lib/python3.10/dist-packages (from streamlit) (2.8.2)\n",
            "Requirement already satisfied: requests<3,>=2.27 in /usr/local/lib/python3.10/dist-packages (from streamlit) (2.31.0)\n",
            "Requirement already satisfied: rich<14,>=10.14.0 in /usr/local/lib/python3.10/dist-packages (from streamlit) (13.5.3)\n",
            "Requirement already satisfied: tenacity<9,>=8.1.0 in /usr/local/lib/python3.10/dist-packages (from streamlit) (8.2.3)\n",
            "Requirement already satisfied: toml<2,>=0.10.1 in /usr/local/lib/python3.10/dist-packages (from streamlit) (0.10.2)\n",
            "Requirement already satisfied: typing-extensions<5,>=4.3.0 in /usr/local/lib/python3.10/dist-packages (from streamlit) (4.5.0)\n",
            "Requirement already satisfied: tzlocal<6,>=1.1 in /usr/local/lib/python3.10/dist-packages (from streamlit) (5.0.1)\n",
            "Collecting validators<1,>=0.2 (from streamlit)\n",
            "  Downloading validators-0.22.0-py3-none-any.whl (26 kB)\n",
            "Collecting gitpython!=3.1.19,<4,>=3.0.7 (from streamlit)\n",
            "  Downloading GitPython-3.1.37-py3-none-any.whl (190 kB)\n",
            "\u001b[2K     \u001b[90m━━━━━━━━━━━━━━━━━━━━━━━━━━━━━━━━━━━━━━\u001b[0m \u001b[32m190.0/190.0 kB\u001b[0m \u001b[31m19.2 MB/s\u001b[0m eta \u001b[36m0:00:00\u001b[0m\n",
            "\u001b[?25hCollecting pydeck<1,>=0.8.0b4 (from streamlit)\n",
            "  Downloading pydeck-0.8.1b0-py2.py3-none-any.whl (4.8 MB)\n",
            "\u001b[2K     \u001b[90m━━━━━━━━━━━━━━━━━━━━━━━━━━━━━━━━━━━━━━━━\u001b[0m \u001b[32m4.8/4.8 MB\u001b[0m \u001b[31m82.2 MB/s\u001b[0m eta \u001b[36m0:00:00\u001b[0m\n",
            "\u001b[?25hRequirement already satisfied: tornado<7,>=6.0.3 in /usr/local/lib/python3.10/dist-packages (from streamlit) (6.3.2)\n",
            "Collecting watchdog>=2.1.5 (from streamlit)\n",
            "  Downloading watchdog-3.0.0-py3-none-manylinux2014_x86_64.whl (82 kB)\n",
            "\u001b[2K     \u001b[90m━━━━━━━━━━━━━━━━━━━━━━━━━━━━━━━━━━━━━━━━\u001b[0m \u001b[32m82.1/82.1 kB\u001b[0m \u001b[31m11.1 MB/s\u001b[0m eta \u001b[36m0:00:00\u001b[0m\n",
            "\u001b[?25hRequirement already satisfied: entrypoints in /usr/local/lib/python3.10/dist-packages (from altair<6,>=4.0->streamlit) (0.4)\n",
            "Requirement already satisfied: jinja2 in /usr/local/lib/python3.10/dist-packages (from altair<6,>=4.0->streamlit) (3.1.2)\n",
            "Requirement already satisfied: jsonschema>=3.0 in /usr/local/lib/python3.10/dist-packages (from altair<6,>=4.0->streamlit) (4.19.1)\n",
            "Requirement already satisfied: toolz in /usr/local/lib/python3.10/dist-packages (from altair<6,>=4.0->streamlit) (0.12.0)\n",
            "Collecting gitdb<5,>=4.0.1 (from gitpython!=3.1.19,<4,>=3.0.7->streamlit)\n",
            "  Downloading gitdb-4.0.10-py3-none-any.whl (62 kB)\n",
            "\u001b[2K     \u001b[90m━━━━━━━━━━━━━━━━━━━━━━━━━━━━━━━━━━━━━━━━\u001b[0m \u001b[32m62.7/62.7 kB\u001b[0m \u001b[31m5.2 MB/s\u001b[0m eta \u001b[36m0:00:00\u001b[0m\n",
            "\u001b[?25hRequirement already satisfied: zipp>=0.5 in /usr/local/lib/python3.10/dist-packages (from importlib-metadata<7,>=1.4->streamlit) (3.17.0)\n",
            "Requirement already satisfied: pytz>=2020.1 in /usr/local/lib/python3.10/dist-packages (from pandas<3,>=1.3.0->streamlit) (2023.3.post1)\n",
            "Requirement already satisfied: six>=1.5 in /usr/local/lib/python3.10/dist-packages (from python-dateutil<3,>=2.7.3->streamlit) (1.16.0)\n",
            "Requirement already satisfied: charset-normalizer<4,>=2 in /usr/local/lib/python3.10/dist-packages (from requests<3,>=2.27->streamlit) (3.2.0)\n",
            "Requirement already satisfied: idna<4,>=2.5 in /usr/local/lib/python3.10/dist-packages (from requests<3,>=2.27->streamlit) (3.4)\n",
            "Requirement already satisfied: urllib3<3,>=1.21.1 in /usr/local/lib/python3.10/dist-packages (from requests<3,>=2.27->streamlit) (2.0.5)\n",
            "Requirement already satisfied: certifi>=2017.4.17 in /usr/local/lib/python3.10/dist-packages (from requests<3,>=2.27->streamlit) (2023.7.22)\n",
            "Requirement already satisfied: markdown-it-py>=2.2.0 in /usr/local/lib/python3.10/dist-packages (from rich<14,>=10.14.0->streamlit) (3.0.0)\n",
            "Requirement already satisfied: pygments<3.0.0,>=2.13.0 in /usr/local/lib/python3.10/dist-packages (from rich<14,>=10.14.0->streamlit) (2.16.1)\n",
            "Collecting smmap<6,>=3.0.1 (from gitdb<5,>=4.0.1->gitpython!=3.1.19,<4,>=3.0.7->streamlit)\n",
            "  Downloading smmap-5.0.1-py3-none-any.whl (24 kB)\n",
            "Requirement already satisfied: MarkupSafe>=2.0 in /usr/local/lib/python3.10/dist-packages (from jinja2->altair<6,>=4.0->streamlit) (2.1.3)\n",
            "Requirement already satisfied: attrs>=22.2.0 in /usr/local/lib/python3.10/dist-packages (from jsonschema>=3.0->altair<6,>=4.0->streamlit) (23.1.0)\n",
            "Requirement already satisfied: jsonschema-specifications>=2023.03.6 in /usr/local/lib/python3.10/dist-packages (from jsonschema>=3.0->altair<6,>=4.0->streamlit) (2023.7.1)\n",
            "Requirement already satisfied: referencing>=0.28.4 in /usr/local/lib/python3.10/dist-packages (from jsonschema>=3.0->altair<6,>=4.0->streamlit) (0.30.2)\n",
            "Requirement already satisfied: rpds-py>=0.7.1 in /usr/local/lib/python3.10/dist-packages (from jsonschema>=3.0->altair<6,>=4.0->streamlit) (0.10.3)\n",
            "Requirement already satisfied: mdurl~=0.1 in /usr/local/lib/python3.10/dist-packages (from markdown-it-py>=2.2.0->rich<14,>=10.14.0->streamlit) (0.1.2)\n",
            "Installing collected packages: watchdog, validators, smmap, pydeck, gitdb, gitpython, streamlit\n",
            "Successfully installed gitdb-4.0.10 gitpython-3.1.37 pydeck-0.8.1b0 smmap-5.0.1 streamlit-1.27.2 validators-0.22.0 watchdog-3.0.0\n"
          ]
        }
      ]
    },
    {
      "cell_type": "code",
      "source": [
        "!unzip ngrok-stable-linux-amd64.zip\n"
      ],
      "metadata": {
        "colab": {
          "base_uri": "https://localhost:8080/"
        },
        "id": "TP_G6SX252O-",
        "outputId": "2187602e-bda9-4689-fe38-9f4c61505679"
      },
      "execution_count": 2,
      "outputs": [
        {
          "output_type": "stream",
          "name": "stdout",
          "text": [
            "Archive:  ngrok-stable-linux-amd64.zip\n",
            "  inflating: ngrok                   \n"
          ]
        }
      ]
    },
    {
      "cell_type": "code",
      "source": [
        "!ngrok config add-authtoken 2UeZlf4EEpyZTqlhhLmBCHsMKP3_6YyVSFbVimDGsicuNCUPg\n"
      ],
      "metadata": {
        "colab": {
          "base_uri": "https://localhost:8080/"
        },
        "id": "njN41X87-z4L",
        "outputId": "39ba8750-77dd-49e3-8876-d57b56835dd2"
      },
      "execution_count": 23,
      "outputs": [
        {
          "output_type": "stream",
          "name": "stdout",
          "text": [
            "Authtoken saved to configuration file: /root/.ngrok2/ngrok.yml\n"
          ]
        }
      ]
    },
    {
      "cell_type": "code",
      "source": [
        "get_ipython().system_raw('./ngrok http 8501 &')\n"
      ],
      "metadata": {
        "id": "yDPcOF4o5_Kq"
      },
      "execution_count": 33,
      "outputs": []
    },
    {
      "cell_type": "code",
      "source": [
        "! curl -s http://localhost:4040/api/tunnels | python3 -c \\\n",
        "    \"import sys, json; print(json.load(sys.stdin)['tunnels'][0]['public_url'])\""
      ],
      "metadata": {
        "colab": {
          "base_uri": "https://localhost:8080/"
        },
        "id": "gfz9dt-96G3q",
        "outputId": "8025c96a-1e0a-46ff-f075-66e267520efa"
      },
      "execution_count": 34,
      "outputs": [
        {
          "output_type": "stream",
          "name": "stdout",
          "text": [
            "http://668c-34-142-178-75.ngrok-free.app\n"
          ]
        }
      ]
    },
    {
      "cell_type": "code",
      "source": [
        "!streamlit run /content/app.py"
      ],
      "metadata": {
        "colab": {
          "base_uri": "https://localhost:8080/"
        },
        "id": "LVi_380f-m3H",
        "outputId": "9e6d1b72-1435-488d-e240-5e6a79595c28"
      },
      "execution_count": 35,
      "outputs": [
        {
          "output_type": "stream",
          "name": "stdout",
          "text": [
            "\n",
            "Collecting usage statistics. To deactivate, set browser.gatherUsageStats to False.\n",
            "\u001b[0m\n",
            "\u001b[0m\n",
            "\u001b[34m\u001b[1m  You can now view your Streamlit app in your browser.\u001b[0m\n",
            "\u001b[0m\n",
            "\u001b[34m  Network URL: \u001b[0m\u001b[1mhttp://172.28.0.12:8501\u001b[0m\n",
            "\u001b[34m  External URL: \u001b[0m\u001b[1mhttp://34.142.178.75:8501\u001b[0m\n",
            "\u001b[0m\n",
            "2023-10-04 14:07:53.327 Uncaught app exception\n",
            "Traceback (most recent call last):\n",
            "  File \"/usr/local/lib/python3.10/dist-packages/streamlit/runtime/scriptrunner/script_runner.py\", line 541, in _run_script\n",
            "    exec(code, module.__dict__)\n",
            "  File \"/content/app.py\", line 2, in <module>\n",
            "    from run_llama import load_models\n",
            "  File \"/content/run_llama.py\", line 2, in <module>\n",
            "    from langchain.llms import  CTransformers\n",
            "ModuleNotFoundError: No module named 'langchain'\n",
            "\u001b[34m  Stopping...\u001b[0m\n",
            "^C\n"
          ]
        }
      ]
    },
    {
      "cell_type": "code",
      "source": [
        "!pip install pyngrok"
      ],
      "metadata": {
        "colab": {
          "base_uri": "https://localhost:8080/"
        },
        "id": "D-Gw8oXx7miv",
        "outputId": "a8d213d7-70e5-45e6-9fe7-d92a8bff2b31"
      },
      "execution_count": 7,
      "outputs": [
        {
          "output_type": "stream",
          "name": "stdout",
          "text": [
            "Collecting pyngrok\n",
            "  Downloading pyngrok-7.0.0.tar.gz (718 kB)\n",
            "\u001b[2K     \u001b[90m━━━━━━━━━━━━━━━━━━━━━━━━━━━━━━━━━━━━━━━\u001b[0m \u001b[32m718.7/718.7 kB\u001b[0m \u001b[31m8.6 MB/s\u001b[0m eta \u001b[36m0:00:00\u001b[0m\n",
            "\u001b[?25h  Preparing metadata (setup.py) ... \u001b[?25l\u001b[?25hdone\n",
            "Requirement already satisfied: PyYAML in /usr/local/lib/python3.10/dist-packages (from pyngrok) (6.0.1)\n",
            "Building wheels for collected packages: pyngrok\n",
            "  Building wheel for pyngrok (setup.py) ... \u001b[?25l\u001b[?25hdone\n",
            "  Created wheel for pyngrok: filename=pyngrok-7.0.0-py3-none-any.whl size=21129 sha256=b464a702e54e5a19376cbb471edc715e81367b913de6e60a16298e2e7102bdf1\n",
            "  Stored in directory: /root/.cache/pip/wheels/60/29/7b/f64332aa7e5e88fbd56d4002185ae22dcdc83b35b3d1c2cbf5\n",
            "Successfully built pyngrok\n",
            "Installing collected packages: pyngrok\n",
            "Successfully installed pyngrok-7.0.0\n"
          ]
        }
      ]
    },
    {
      "cell_type": "code",
      "source": [
        "!pip install -r requirements.txt"
      ],
      "metadata": {
        "colab": {
          "base_uri": "https://localhost:8080/"
        },
        "id": "l0VS9Xnp6Lj3",
        "outputId": "94eb31f4-8749-45ce-e8a8-a878ea9347f7"
      },
      "execution_count": 32,
      "outputs": [
        {
          "output_type": "stream",
          "name": "stdout",
          "text": [
            "Ignoring protobuf: markers 'sys_platform == \"darwin\" and platform_machine != \"arm64\"' don't match your environment\n",
            "Ignoring protobuf: markers 'sys_platform == \"darwin\" and platform_machine == \"arm64\"' don't match your environment\n",
            "Collecting torch@ https://download.pytorch.org/whl/cu118/torch-2.0.1%2Bcu118-cp310-cp310-linux_x86_64.whl#sha256=a7a49d459bf4862f64f7bc1a68beccf8881c2fa9f3e0569608e16ba6f85ebf7b (from -r requirements.txt (line 489))\n",
            "  Using cached https://download.pytorch.org/whl/cu118/torch-2.0.1%2Bcu118-cp310-cp310-linux_x86_64.whl (2267.3 MB)\n",
            "Collecting torchaudio@ https://download.pytorch.org/whl/cu118/torchaudio-2.0.2%2Bcu118-cp310-cp310-linux_x86_64.whl#sha256=26692645ea061a005c57ec581a2d0425210ac6ba9f923edf11cc9b0ef3a111e9 (from -r requirements.txt (line 490))\n",
            "  Using cached https://download.pytorch.org/whl/cu118/torchaudio-2.0.2%2Bcu118-cp310-cp310-linux_x86_64.whl (4.4 MB)\n",
            "Collecting torchvision@ https://download.pytorch.org/whl/cu118/torchvision-0.15.2%2Bcu118-cp310-cp310-linux_x86_64.whl#sha256=19ca4ab5d6179bbe53cff79df1a855ee6533c2861ddc7389f68349d8b9f8302a (from -r requirements.txt (line 494))\n",
            "  Using cached https://download.pytorch.org/whl/cu118/torchvision-0.15.2%2Bcu118-cp310-cp310-linux_x86_64.whl (6.1 MB)\n",
            "Collecting langchain==0.0.267 (from -r requirements.txt (line 2))\n",
            "  Using cached langchain-0.0.267-py3-none-any.whl (1.5 MB)\n",
            "Collecting pdfminer.six==20221105 (from -r requirements.txt (line 4))\n",
            "  Using cached pdfminer.six-20221105-py3-none-any.whl (5.6 MB)\n",
            "Collecting InstructorEmbedding (from -r requirements.txt (line 5))\n",
            "  Using cached InstructorEmbedding-1.0.1-py2.py3-none-any.whl (19 kB)\n",
            "Collecting sentence-transformers (from -r requirements.txt (line 6))\n",
            "  Using cached sentence-transformers-2.2.2.tar.gz (85 kB)\n",
            "  Preparing metadata (setup.py) ... \u001b[?25l\u001b[?25hdone\n",
            "Collecting faiss-cpu (from -r requirements.txt (line 7))\n",
            "  Using cached faiss_cpu-1.7.4-cp310-cp310-manylinux_2_17_x86_64.manylinux2014_x86_64.whl (17.6 MB)\n",
            "Collecting huggingface_hub (from -r requirements.txt (line 8))\n",
            "  Using cached huggingface_hub-0.17.3-py3-none-any.whl (295 kB)\n",
            "Collecting transformers (from -r requirements.txt (line 9))\n",
            "  Using cached transformers-4.34.0-py3-none-any.whl (7.7 MB)\n",
            "Collecting protobuf==3.20.0 (from -r requirements.txt (line 10))\n",
            "  Using cached protobuf-3.20.0-cp310-cp310-manylinux_2_12_x86_64.manylinux2010_x86_64.whl (1.1 MB)\n",
            "Collecting docx2txt (from -r requirements.txt (line 13))\n",
            "  Using cached docx2txt-0.8.tar.gz (2.8 kB)\n",
            "  Preparing metadata (setup.py) ... \u001b[?25l\u001b[?25hdone\n",
            "Collecting unstructured (from -r requirements.txt (line 14))\n",
            "  Using cached unstructured-0.10.18-py3-none-any.whl (1.5 MB)\n",
            "Collecting pypdf (from -r requirements.txt (line 15))\n",
            "  Using cached pypdf-3.16.2-py3-none-any.whl (276 kB)\n",
            "Collecting urllib3==1.26.6 (from -r requirements.txt (line 18))\n",
            "  Using cached urllib3-1.26.6-py2.py3-none-any.whl (138 kB)\n",
            "Collecting accelerate (from -r requirements.txt (line 19))\n",
            "  Using cached accelerate-0.23.0-py3-none-any.whl (258 kB)\n",
            "Requirement already satisfied: click in /usr/local/lib/python3.10/dist-packages (from -r requirements.txt (line 22)) (8.1.7)\n",
            "Requirement already satisfied: requests in /usr/local/lib/python3.10/dist-packages (from -r requirements.txt (line 24)) (2.31.0)\n",
            "Requirement already satisfied: openpyxl in /usr/local/lib/python3.10/dist-packages (from -r requirements.txt (line 31)) (3.1.2)\n",
            "Requirement already satisfied: absl-py==1.4.0 in /usr/local/lib/python3.10/dist-packages (from -r requirements.txt (line 33)) (1.4.0)\n",
            "Requirement already satisfied: aiohttp==3.8.5 in /usr/local/lib/python3.10/dist-packages (from -r requirements.txt (line 35)) (3.8.5)\n",
            "Requirement already satisfied: aiosignal==1.3.1 in /usr/local/lib/python3.10/dist-packages (from -r requirements.txt (line 36)) (1.3.1)\n",
            "Requirement already satisfied: alabaster==0.7.13 in /usr/local/lib/python3.10/dist-packages (from -r requirements.txt (line 37)) (0.7.13)\n",
            "Requirement already satisfied: albumentations==1.3.1 in /usr/local/lib/python3.10/dist-packages (from -r requirements.txt (line 38)) (1.3.1)\n",
            "Requirement already satisfied: altair==4.2.2 in /usr/local/lib/python3.10/dist-packages (from -r requirements.txt (line 39)) (4.2.2)\n",
            "Requirement already satisfied: anyio==3.7.1 in /usr/local/lib/python3.10/dist-packages (from -r requirements.txt (line 40)) (3.7.1)\n",
            "Requirement already satisfied: appdirs==1.4.4 in /usr/local/lib/python3.10/dist-packages (from -r requirements.txt (line 41)) (1.4.4)\n",
            "Requirement already satisfied: argon2-cffi==23.1.0 in /usr/local/lib/python3.10/dist-packages (from -r requirements.txt (line 42)) (23.1.0)\n",
            "Requirement already satisfied: argon2-cffi-bindings==21.2.0 in /usr/local/lib/python3.10/dist-packages (from -r requirements.txt (line 43)) (21.2.0)\n",
            "Requirement already satisfied: array-record==0.4.1 in /usr/local/lib/python3.10/dist-packages (from -r requirements.txt (line 44)) (0.4.1)\n",
            "Requirement already satisfied: arviz==0.15.1 in /usr/local/lib/python3.10/dist-packages (from -r requirements.txt (line 45)) (0.15.1)\n",
            "Requirement already satisfied: astropy==5.3.3 in /usr/local/lib/python3.10/dist-packages (from -r requirements.txt (line 46)) (5.3.3)\n",
            "Requirement already satisfied: astunparse==1.6.3 in /usr/local/lib/python3.10/dist-packages (from -r requirements.txt (line 47)) (1.6.3)\n",
            "Requirement already satisfied: async-timeout==4.0.3 in /usr/local/lib/python3.10/dist-packages (from -r requirements.txt (line 48)) (4.0.3)\n",
            "Requirement already satisfied: attrs==23.1.0 in /usr/local/lib/python3.10/dist-packages (from -r requirements.txt (line 49)) (23.1.0)\n",
            "Requirement already satisfied: audioread==3.0.1 in /usr/local/lib/python3.10/dist-packages (from -r requirements.txt (line 50)) (3.0.1)\n",
            "Collecting auto-gptq==0.4.2 (from -r requirements.txt (line 51))\n",
            "  Using cached auto_gptq-0.4.2-cp310-cp310-manylinux_2_17_x86_64.manylinux2014_x86_64.whl (1.8 MB)\n",
            "Requirement already satisfied: autograd==1.6.2 in /usr/local/lib/python3.10/dist-packages (from -r requirements.txt (line 52)) (1.6.2)\n",
            "Requirement already satisfied: Babel==2.12.1 in /usr/local/lib/python3.10/dist-packages (from -r requirements.txt (line 53)) (2.12.1)\n",
            "Requirement already satisfied: backcall==0.2.0 in /usr/local/lib/python3.10/dist-packages (from -r requirements.txt (line 54)) (0.2.0)\n",
            "Collecting backoff==2.2.1 (from -r requirements.txt (line 55))\n",
            "  Using cached backoff-2.2.1-py3-none-any.whl (15 kB)\n",
            "Collecting bcrypt==4.0.1 (from -r requirements.txt (line 56))\n",
            "  Using cached bcrypt-4.0.1-cp36-abi3-manylinux_2_28_x86_64.whl (593 kB)\n",
            "Requirement already satisfied: beautifulsoup4==4.11.2 in /usr/local/lib/python3.10/dist-packages (from -r requirements.txt (line 57)) (4.11.2)\n",
            "Requirement already satisfied: bleach==6.0.0 in /usr/local/lib/python3.10/dist-packages (from -r requirements.txt (line 58)) (6.0.0)\n",
            "Requirement already satisfied: blinker==1.4 in /usr/lib/python3/dist-packages (from -r requirements.txt (line 59)) (1.4)\n",
            "Requirement already satisfied: blis==0.7.11 in /usr/local/lib/python3.10/dist-packages (from -r requirements.txt (line 60)) (0.7.11)\n",
            "Requirement already satisfied: blosc2==2.0.0 in /usr/local/lib/python3.10/dist-packages (from -r requirements.txt (line 61)) (2.0.0)\n",
            "Requirement already satisfied: bokeh==3.2.2 in /usr/local/lib/python3.10/dist-packages (from -r requirements.txt (line 62)) (3.2.2)\n",
            "Requirement already satisfied: bqplot==0.12.40 in /usr/local/lib/python3.10/dist-packages (from -r requirements.txt (line 63)) (0.12.40)\n",
            "Requirement already satisfied: branca==0.6.0 in /usr/local/lib/python3.10/dist-packages (from -r requirements.txt (line 64)) (0.6.0)\n",
            "Requirement already satisfied: build==1.0.3 in /usr/local/lib/python3.10/dist-packages (from -r requirements.txt (line 65)) (1.0.3)\n",
            "Requirement already satisfied: CacheControl==0.13.1 in /usr/local/lib/python3.10/dist-packages (from -r requirements.txt (line 66)) (0.13.1)\n",
            "Requirement already satisfied: cachetools==5.3.1 in /usr/local/lib/python3.10/dist-packages (from -r requirements.txt (line 67)) (5.3.1)\n",
            "Requirement already satisfied: catalogue==2.0.10 in /usr/local/lib/python3.10/dist-packages (from -r requirements.txt (line 68)) (2.0.10)\n",
            "Requirement already satisfied: certifi==2023.7.22 in /usr/local/lib/python3.10/dist-packages (from -r requirements.txt (line 69)) (2023.7.22)\n",
            "Requirement already satisfied: cffi==1.16.0 in /usr/local/lib/python3.10/dist-packages (from -r requirements.txt (line 70)) (1.16.0)\n",
            "Requirement already satisfied: chardet==5.2.0 in /usr/local/lib/python3.10/dist-packages (from -r requirements.txt (line 71)) (5.2.0)\n",
            "Requirement already satisfied: charset-normalizer==3.2.0 in /usr/local/lib/python3.10/dist-packages (from -r requirements.txt (line 72)) (3.2.0)\n",
            "Requirement already satisfied: chex==0.1.7 in /usr/local/lib/python3.10/dist-packages (from -r requirements.txt (line 73)) (0.1.7)\n",
            "Collecting chroma-hnswlib==0.7.3 (from -r requirements.txt (line 74))\n",
            "  Using cached chroma_hnswlib-0.7.3-cp310-cp310-manylinux_2_17_x86_64.manylinux2014_x86_64.whl (2.4 MB)\n",
            "Collecting chromadb==0.4.13 (from -r requirements.txt (line 75))\n",
            "  Using cached chromadb-0.4.13-py3-none-any.whl (437 kB)\n",
            "Requirement already satisfied: click-plugins==1.1.1 in /usr/local/lib/python3.10/dist-packages (from -r requirements.txt (line 77)) (1.1.1)\n",
            "Requirement already satisfied: cligj==0.7.2 in /usr/local/lib/python3.10/dist-packages (from -r requirements.txt (line 78)) (0.7.2)\n",
            "Requirement already satisfied: cloudpickle==2.2.1 in /usr/local/lib/python3.10/dist-packages (from -r requirements.txt (line 79)) (2.2.1)\n",
            "Requirement already satisfied: cmake==3.27.5 in /usr/local/lib/python3.10/dist-packages (from -r requirements.txt (line 80)) (3.27.5)\n",
            "Requirement already satisfied: cmdstanpy==1.1.0 in /usr/local/lib/python3.10/dist-packages (from -r requirements.txt (line 81)) (1.1.0)\n",
            "Requirement already satisfied: colorcet==3.0.1 in /usr/local/lib/python3.10/dist-packages (from -r requirements.txt (line 82)) (3.0.1)\n",
            "Collecting coloredlogs==15.0.1 (from -r requirements.txt (line 83))\n",
            "  Using cached coloredlogs-15.0.1-py2.py3-none-any.whl (46 kB)\n",
            "Requirement already satisfied: colorlover==0.3.0 in /usr/local/lib/python3.10/dist-packages (from -r requirements.txt (line 84)) (0.3.0)\n",
            "Requirement already satisfied: colour==0.1.5 in /usr/local/lib/python3.10/dist-packages (from -r requirements.txt (line 85)) (0.1.5)\n",
            "Requirement already satisfied: community==1.0.0b1 in /usr/local/lib/python3.10/dist-packages (from -r requirements.txt (line 86)) (1.0.0b1)\n",
            "Requirement already satisfied: confection==0.1.3 in /usr/local/lib/python3.10/dist-packages (from -r requirements.txt (line 87)) (0.1.3)\n",
            "Requirement already satisfied: cons==0.4.6 in /usr/local/lib/python3.10/dist-packages (from -r requirements.txt (line 88)) (0.4.6)\n",
            "Requirement already satisfied: contextlib2==21.6.0 in /usr/local/lib/python3.10/dist-packages (from -r requirements.txt (line 89)) (21.6.0)\n",
            "Requirement already satisfied: contourpy==1.1.1 in /usr/local/lib/python3.10/dist-packages (from -r requirements.txt (line 90)) (1.1.1)\n",
            "Requirement already satisfied: convertdate==2.4.0 in /usr/local/lib/python3.10/dist-packages (from -r requirements.txt (line 91)) (2.4.0)\n",
            "Requirement already satisfied: cryptography==41.0.4 in /usr/local/lib/python3.10/dist-packages (from -r requirements.txt (line 92)) (41.0.4)\n",
            "Collecting ctransformers==0.2.27 (from -r requirements.txt (line 93))\n",
            "  Using cached ctransformers-0.2.27-py3-none-any.whl (9.9 MB)\n",
            "Requirement already satisfied: cufflinks==0.17.3 in /usr/local/lib/python3.10/dist-packages (from -r requirements.txt (line 94)) (0.17.3)\n",
            "Requirement already satisfied: cupy-cuda11x==11.0.0 in /usr/local/lib/python3.10/dist-packages (from -r requirements.txt (line 95)) (11.0.0)\n",
            "Requirement already satisfied: cvxopt==1.3.2 in /usr/local/lib/python3.10/dist-packages (from -r requirements.txt (line 96)) (1.3.2)\n",
            "Requirement already satisfied: cvxpy==1.3.2 in /usr/local/lib/python3.10/dist-packages (from -r requirements.txt (line 97)) (1.3.2)\n",
            "Requirement already satisfied: cycler==0.12.0 in /usr/local/lib/python3.10/dist-packages (from -r requirements.txt (line 98)) (0.12.0)\n",
            "Requirement already satisfied: cymem==2.0.8 in /usr/local/lib/python3.10/dist-packages (from -r requirements.txt (line 99)) (2.0.8)\n",
            "Requirement already satisfied: Cython==3.0.2 in /usr/local/lib/python3.10/dist-packages (from -r requirements.txt (line 100)) (3.0.2)\n",
            "Requirement already satisfied: dask==2023.8.1 in /usr/local/lib/python3.10/dist-packages (from -r requirements.txt (line 101)) (2023.8.1)\n",
            "Collecting dataclasses-json==0.6.1 (from -r requirements.txt (line 102))\n",
            "  Using cached dataclasses_json-0.6.1-py3-none-any.whl (27 kB)\n",
            "Requirement already satisfied: datascience==0.17.6 in /usr/local/lib/python3.10/dist-packages (from -r requirements.txt (line 103)) (0.17.6)\n",
            "Collecting datasets==2.14.5 (from -r requirements.txt (line 104))\n",
            "  Using cached datasets-2.14.5-py3-none-any.whl (519 kB)\n",
            "Requirement already satisfied: db-dtypes==1.1.1 in /usr/local/lib/python3.10/dist-packages (from -r requirements.txt (line 105)) (1.1.1)\n",
            "Requirement already satisfied: dbus-python==1.2.18 in /usr/lib/python3/dist-packages (from -r requirements.txt (line 106)) (1.2.18)\n",
            "Requirement already satisfied: debugpy==1.6.6 in /usr/local/lib/python3.10/dist-packages (from -r requirements.txt (line 107)) (1.6.6)\n",
            "Requirement already satisfied: decorator==4.4.2 in /usr/local/lib/python3.10/dist-packages (from -r requirements.txt (line 108)) (4.4.2)\n",
            "Requirement already satisfied: defusedxml==0.7.1 in /usr/local/lib/python3.10/dist-packages (from -r requirements.txt (line 109)) (0.7.1)\n",
            "Collecting dill==0.3.7 (from -r requirements.txt (line 110))\n",
            "  Using cached dill-0.3.7-py3-none-any.whl (115 kB)\n",
            "Collecting diskcache==5.6.3 (from -r requirements.txt (line 111))\n",
            "  Using cached diskcache-5.6.3-py3-none-any.whl (45 kB)\n",
            "Requirement already satisfied: distributed==2023.8.1 in /usr/local/lib/python3.10/dist-packages (from -r requirements.txt (line 112)) (2023.8.1)\n",
            "Requirement already satisfied: distro==1.7.0 in /usr/lib/python3/dist-packages (from -r requirements.txt (line 113)) (1.7.0)\n",
            "Requirement already satisfied: dlib==19.24.2 in /usr/local/lib/python3.10/dist-packages (from -r requirements.txt (line 114)) (19.24.2)\n",
            "Requirement already satisfied: dm-tree==0.1.8 in /usr/local/lib/python3.10/dist-packages (from -r requirements.txt (line 115)) (0.1.8)\n",
            "Requirement already satisfied: docutils==0.18.1 in /usr/local/lib/python3.10/dist-packages (from -r requirements.txt (line 116)) (0.18.1)\n",
            "Requirement already satisfied: dopamine-rl==4.0.6 in /usr/local/lib/python3.10/dist-packages (from -r requirements.txt (line 117)) (4.0.6)\n",
            "Requirement already satisfied: duckdb==0.8.1 in /usr/local/lib/python3.10/dist-packages (from -r requirements.txt (line 118)) (0.8.1)\n",
            "Requirement already satisfied: earthengine-api==0.1.371 in /usr/local/lib/python3.10/dist-packages (from -r requirements.txt (line 119)) (0.1.371)\n",
            "Requirement already satisfied: easydict==1.10 in /usr/local/lib/python3.10/dist-packages (from -r requirements.txt (line 120)) (1.10)\n",
            "Requirement already satisfied: ecos==2.0.12 in /usr/local/lib/python3.10/dist-packages (from -r requirements.txt (line 121)) (2.0.12)\n",
            "Requirement already satisfied: editdistance==0.6.2 in /usr/local/lib/python3.10/dist-packages (from -r requirements.txt (line 122)) (0.6.2)\n",
            "Requirement already satisfied: eerepr==0.0.4 in /usr/local/lib/python3.10/dist-packages (from -r requirements.txt (line 123)) (0.0.4)\n",
            "Requirement already satisfied: entrypoints==0.4 in /usr/local/lib/python3.10/dist-packages (from -r requirements.txt (line 124)) (0.4)\n",
            "Requirement already satisfied: ephem==4.1.4 in /usr/local/lib/python3.10/dist-packages (from -r requirements.txt (line 125)) (4.1.4)\n",
            "Requirement already satisfied: et-xmlfile==1.1.0 in /usr/local/lib/python3.10/dist-packages (from -r requirements.txt (line 126)) (1.1.0)\n",
            "Requirement already satisfied: etils==1.5.0 in /usr/local/lib/python3.10/dist-packages (from -r requirements.txt (line 127)) (1.5.0)\n",
            "Requirement already satisfied: etuples==0.3.9 in /usr/local/lib/python3.10/dist-packages (from -r requirements.txt (line 128)) (0.3.9)\n",
            "Requirement already satisfied: exceptiongroup==1.1.3 in /usr/local/lib/python3.10/dist-packages (from -r requirements.txt (line 129)) (1.1.3)\n",
            "Collecting exllama==0.1.0 (from -r requirements.txt (line 130))\n",
            "  Using cached exllama-0.1.0-py3-none-any.whl (50 kB)\n",
            "Requirement already satisfied: fastai==2.7.12 in /usr/local/lib/python3.10/dist-packages (from -r requirements.txt (line 131)) (2.7.12)\n",
            "Collecting fastapi==0.103.2 (from -r requirements.txt (line 132))\n",
            "  Using cached fastapi-0.103.2-py3-none-any.whl (66 kB)\n",
            "Requirement already satisfied: fastcore==1.5.29 in /usr/local/lib/python3.10/dist-packages (from -r requirements.txt (line 133)) (1.5.29)\n",
            "Requirement already satisfied: fastdownload==0.0.7 in /usr/local/lib/python3.10/dist-packages (from -r requirements.txt (line 134)) (0.0.7)\n",
            "Requirement already satisfied: fastjsonschema==2.18.0 in /usr/local/lib/python3.10/dist-packages (from -r requirements.txt (line 135)) (2.18.0)\n",
            "Requirement already satisfied: fastprogress==1.0.3 in /usr/local/lib/python3.10/dist-packages (from -r requirements.txt (line 136)) (1.0.3)\n",
            "Requirement already satisfied: fastrlock==0.8.2 in /usr/local/lib/python3.10/dist-packages (from -r requirements.txt (line 137)) (0.8.2)\n",
            "Requirement already satisfied: filelock==3.12.4 in /usr/local/lib/python3.10/dist-packages (from -r requirements.txt (line 138)) (3.12.4)\n",
            "Requirement already satisfied: Fiona==1.9.4.post1 in /usr/local/lib/python3.10/dist-packages (from -r requirements.txt (line 139)) (1.9.4.post1)\n",
            "Requirement already satisfied: firebase-admin==5.3.0 in /usr/local/lib/python3.10/dist-packages (from -r requirements.txt (line 140)) (5.3.0)\n",
            "Requirement already satisfied: Flask==2.2.5 in /usr/local/lib/python3.10/dist-packages (from -r requirements.txt (line 141)) (2.2.5)\n",
            "Requirement already satisfied: flatbuffers==23.5.26 in /usr/local/lib/python3.10/dist-packages (from -r requirements.txt (line 142)) (23.5.26)\n",
            "Requirement already satisfied: flax==0.7.4 in /usr/local/lib/python3.10/dist-packages (from -r requirements.txt (line 143)) (0.7.4)\n",
            "Requirement already satisfied: folium==0.14.0 in /usr/local/lib/python3.10/dist-packages (from -r requirements.txt (line 144)) (0.14.0)\n",
            "Requirement already satisfied: fonttools==4.43.0 in /usr/local/lib/python3.10/dist-packages (from -r requirements.txt (line 145)) (4.43.0)\n",
            "Requirement already satisfied: frozendict==2.3.8 in /usr/local/lib/python3.10/dist-packages (from -r requirements.txt (line 146)) (2.3.8)\n",
            "Requirement already satisfied: frozenlist==1.4.0 in /usr/local/lib/python3.10/dist-packages (from -r requirements.txt (line 147)) (1.4.0)\n",
            "Requirement already satisfied: fsspec==2023.6.0 in /usr/local/lib/python3.10/dist-packages (from -r requirements.txt (line 148)) (2023.6.0)\n",
            "Requirement already satisfied: future==0.18.3 in /usr/local/lib/python3.10/dist-packages (from -r requirements.txt (line 149)) (0.18.3)\n",
            "Requirement already satisfied: gast==0.4.0 in /usr/local/lib/python3.10/dist-packages (from -r requirements.txt (line 150)) (0.4.0)\n",
            "Requirement already satisfied: gcsfs==2023.6.0 in /usr/local/lib/python3.10/dist-packages (from -r requirements.txt (line 151)) (2023.6.0)\n",
            "Requirement already satisfied: GDAL==3.4.3 in /usr/local/lib/python3.10/dist-packages (from -r requirements.txt (line 152)) (3.4.3)\n",
            "Requirement already satisfied: gdown==4.6.6 in /usr/local/lib/python3.10/dist-packages (from -r requirements.txt (line 153)) (4.6.6)\n",
            "Requirement already satisfied: geemap==0.27.3 in /usr/local/lib/python3.10/dist-packages (from -r requirements.txt (line 154)) (0.27.3)\n",
            "Requirement already satisfied: gensim==4.3.2 in /usr/local/lib/python3.10/dist-packages (from -r requirements.txt (line 155)) (4.3.2)\n",
            "Requirement already satisfied: geocoder==1.38.1 in /usr/local/lib/python3.10/dist-packages (from -r requirements.txt (line 156)) (1.38.1)\n",
            "Requirement already satisfied: geographiclib==2.0 in /usr/local/lib/python3.10/dist-packages (from -r requirements.txt (line 157)) (2.0)\n",
            "Requirement already satisfied: geopandas==0.13.2 in /usr/local/lib/python3.10/dist-packages (from -r requirements.txt (line 158)) (0.13.2)\n",
            "Requirement already satisfied: geopy==2.3.0 in /usr/local/lib/python3.10/dist-packages (from -r requirements.txt (line 159)) (2.3.0)\n",
            "Requirement already satisfied: gin-config==0.5.0 in /usr/local/lib/python3.10/dist-packages (from -r requirements.txt (line 160)) (0.5.0)\n",
            "Requirement already satisfied: glob2==0.7 in /usr/local/lib/python3.10/dist-packages (from -r requirements.txt (line 161)) (0.7)\n",
            "Requirement already satisfied: google==2.0.3 in /usr/local/lib/python3.10/dist-packages (from -r requirements.txt (line 162)) (2.0.3)\n",
            "Requirement already satisfied: google-api-core==2.11.1 in /usr/local/lib/python3.10/dist-packages (from -r requirements.txt (line 163)) (2.11.1)\n",
            "Requirement already satisfied: google-api-python-client==2.84.0 in /usr/local/lib/python3.10/dist-packages (from -r requirements.txt (line 164)) (2.84.0)\n",
            "Requirement already satisfied: google-auth==2.17.3 in /usr/local/lib/python3.10/dist-packages (from -r requirements.txt (line 165)) (2.17.3)\n",
            "Requirement already satisfied: google-auth-httplib2==0.1.1 in /usr/local/lib/python3.10/dist-packages (from -r requirements.txt (line 166)) (0.1.1)\n",
            "Requirement already satisfied: google-auth-oauthlib==1.0.0 in /usr/local/lib/python3.10/dist-packages (from -r requirements.txt (line 167)) (1.0.0)\n",
            "Requirement already satisfied: google-cloud-bigquery==3.10.0 in /usr/local/lib/python3.10/dist-packages (from -r requirements.txt (line 168)) (3.10.0)\n",
            "Requirement already satisfied: google-cloud-bigquery-connection==1.12.1 in /usr/local/lib/python3.10/dist-packages (from -r requirements.txt (line 169)) (1.12.1)\n",
            "Requirement already satisfied: google-cloud-bigquery-storage==2.22.0 in /usr/local/lib/python3.10/dist-packages (from -r requirements.txt (line 170)) (2.22.0)\n",
            "Requirement already satisfied: google-cloud-core==2.3.3 in /usr/local/lib/python3.10/dist-packages (from -r requirements.txt (line 171)) (2.3.3)\n",
            "Requirement already satisfied: google-cloud-datastore==2.15.2 in /usr/local/lib/python3.10/dist-packages (from -r requirements.txt (line 172)) (2.15.2)\n",
            "Requirement already satisfied: google-cloud-firestore==2.11.1 in /usr/local/lib/python3.10/dist-packages (from -r requirements.txt (line 173)) (2.11.1)\n",
            "Requirement already satisfied: google-cloud-functions==1.13.3 in /usr/local/lib/python3.10/dist-packages (from -r requirements.txt (line 174)) (1.13.3)\n",
            "Requirement already satisfied: google-cloud-language==2.9.1 in /usr/local/lib/python3.10/dist-packages (from -r requirements.txt (line 175)) (2.9.1)\n",
            "Requirement already satisfied: google-cloud-storage==2.8.0 in /usr/local/lib/python3.10/dist-packages (from -r requirements.txt (line 176)) (2.8.0)\n",
            "Requirement already satisfied: google-cloud-translate==3.11.3 in /usr/local/lib/python3.10/dist-packages (from -r requirements.txt (line 177)) (3.11.3)\n",
            "Requirement already satisfied: google-crc32c==1.5.0 in /usr/local/lib/python3.10/dist-packages (from -r requirements.txt (line 178)) (1.5.0)\n",
            "Requirement already satisfied: google-pasta==0.2.0 in /usr/local/lib/python3.10/dist-packages (from -r requirements.txt (line 179)) (0.2.0)\n",
            "Requirement already satisfied: google-resumable-media==2.6.0 in /usr/local/lib/python3.10/dist-packages (from -r requirements.txt (line 180)) (2.6.0)\n",
            "Requirement already satisfied: googleapis-common-protos==1.60.0 in /usr/local/lib/python3.10/dist-packages (from -r requirements.txt (line 181)) (1.60.0)\n",
            "Requirement already satisfied: googledrivedownloader==0.4 in /usr/local/lib/python3.10/dist-packages (from -r requirements.txt (line 182)) (0.4)\n",
            "Requirement already satisfied: graphviz==0.20.1 in /usr/local/lib/python3.10/dist-packages (from -r requirements.txt (line 183)) (0.20.1)\n",
            "Requirement already satisfied: greenlet==2.0.2 in /usr/local/lib/python3.10/dist-packages (from -r requirements.txt (line 184)) (2.0.2)\n",
            "Requirement already satisfied: grpc-google-iam-v1==0.12.6 in /usr/local/lib/python3.10/dist-packages (from -r requirements.txt (line 185)) (0.12.6)\n",
            "Requirement already satisfied: grpcio==1.58.0 in /usr/local/lib/python3.10/dist-packages (from -r requirements.txt (line 186)) (1.58.0)\n",
            "Requirement already satisfied: grpcio-status==1.48.2 in /usr/local/lib/python3.10/dist-packages (from -r requirements.txt (line 187)) (1.48.2)\n",
            "Requirement already satisfied: gspread==3.4.2 in /usr/local/lib/python3.10/dist-packages (from -r requirements.txt (line 188)) (3.4.2)\n",
            "Requirement already satisfied: gspread-dataframe==3.3.1 in /usr/local/lib/python3.10/dist-packages (from -r requirements.txt (line 189)) (3.3.1)\n",
            "Requirement already satisfied: gym==0.25.2 in /usr/local/lib/python3.10/dist-packages (from -r requirements.txt (line 190)) (0.25.2)\n",
            "Requirement already satisfied: gym-notices==0.0.8 in /usr/local/lib/python3.10/dist-packages (from -r requirements.txt (line 191)) (0.0.8)\n",
            "Collecting h11==0.14.0 (from -r requirements.txt (line 192))\n",
            "  Using cached h11-0.14.0-py3-none-any.whl (58 kB)\n",
            "Requirement already satisfied: h5netcdf==1.2.0 in /usr/local/lib/python3.10/dist-packages (from -r requirements.txt (line 193)) (1.2.0)\n",
            "Requirement already satisfied: h5py==3.9.0 in /usr/local/lib/python3.10/dist-packages (from -r requirements.txt (line 194)) (3.9.0)\n",
            "Requirement already satisfied: holidays==0.33 in /usr/local/lib/python3.10/dist-packages (from -r requirements.txt (line 195)) (0.33)\n",
            "Requirement already satisfied: holoviews==1.17.1 in /usr/local/lib/python3.10/dist-packages (from -r requirements.txt (line 196)) (1.17.1)\n",
            "Requirement already satisfied: html5lib==1.1 in /usr/local/lib/python3.10/dist-packages (from -r requirements.txt (line 197)) (1.1)\n",
            "Requirement already satisfied: httpimport==1.3.1 in /usr/local/lib/python3.10/dist-packages (from -r requirements.txt (line 198)) (1.3.1)\n",
            "Requirement already satisfied: httplib2==0.22.0 in /usr/local/lib/python3.10/dist-packages (from -r requirements.txt (line 199)) (0.22.0)\n",
            "Collecting httptools==0.6.0 (from -r requirements.txt (line 200))\n",
            "  Using cached httptools-0.6.0-cp310-cp310-manylinux_2_5_x86_64.manylinux1_x86_64.manylinux_2_17_x86_64.manylinux2014_x86_64.whl (428 kB)\n",
            "Collecting huggingface_hub (from -r requirements.txt (line 8))\n",
            "  Using cached huggingface_hub-0.16.4-py3-none-any.whl (268 kB)\n",
            "Collecting humanfriendly==10.0 (from -r requirements.txt (line 202))\n",
            "  Using cached humanfriendly-10.0-py2.py3-none-any.whl (86 kB)\n",
            "Requirement already satisfied: humanize==4.7.0 in /usr/local/lib/python3.10/dist-packages (from -r requirements.txt (line 203)) (4.7.0)\n",
            "Requirement already satisfied: hyperopt==0.2.7 in /usr/local/lib/python3.10/dist-packages (from -r requirements.txt (line 204)) (0.2.7)\n",
            "Requirement already satisfied: idna==3.4 in /usr/local/lib/python3.10/dist-packages (from -r requirements.txt (line 205)) (3.4)\n",
            "Requirement already satisfied: imageio==2.31.4 in /usr/local/lib/python3.10/dist-packages (from -r requirements.txt (line 206)) (2.31.4)\n",
            "Requirement already satisfied: imageio-ffmpeg==0.4.9 in /usr/local/lib/python3.10/dist-packages (from -r requirements.txt (line 207)) (0.4.9)\n",
            "Requirement already satisfied: imagesize==1.4.1 in /usr/local/lib/python3.10/dist-packages (from -r requirements.txt (line 208)) (1.4.1)\n",
            "Requirement already satisfied: imbalanced-learn==0.10.1 in /usr/local/lib/python3.10/dist-packages (from -r requirements.txt (line 209)) (0.10.1)\n",
            "Requirement already satisfied: imgaug==0.4.0 in /usr/local/lib/python3.10/dist-packages (from -r requirements.txt (line 210)) (0.4.0)\n",
            "Requirement already satisfied: importlib-metadata==6.8.0 in /usr/local/lib/python3.10/dist-packages (from -r requirements.txt (line 211)) (6.8.0)\n",
            "Requirement already satisfied: importlib-resources==6.1.0 in /usr/local/lib/python3.10/dist-packages (from -r requirements.txt (line 212)) (6.1.0)\n",
            "Requirement already satisfied: imutils==0.5.4 in /usr/local/lib/python3.10/dist-packages (from -r requirements.txt (line 213)) (0.5.4)\n",
            "Requirement already satisfied: inflect==7.0.0 in /usr/local/lib/python3.10/dist-packages (from -r requirements.txt (line 214)) (7.0.0)\n",
            "Requirement already satisfied: iniconfig==2.0.0 in /usr/local/lib/python3.10/dist-packages (from -r requirements.txt (line 215)) (2.0.0)\n",
            "Requirement already satisfied: intel-openmp==2023.2.0 in /usr/local/lib/python3.10/dist-packages (from -r requirements.txt (line 216)) (2023.2.0)\n",
            "Requirement already satisfied: ipyevents==2.0.2 in /usr/local/lib/python3.10/dist-packages (from -r requirements.txt (line 217)) (2.0.2)\n",
            "Requirement already satisfied: ipyfilechooser==0.6.0 in /usr/local/lib/python3.10/dist-packages (from -r requirements.txt (line 218)) (0.6.0)\n",
            "Requirement already satisfied: ipykernel==5.5.6 in /usr/local/lib/python3.10/dist-packages (from -r requirements.txt (line 219)) (5.5.6)\n",
            "Requirement already satisfied: ipyleaflet==0.17.4 in /usr/local/lib/python3.10/dist-packages (from -r requirements.txt (line 220)) (0.17.4)\n",
            "Requirement already satisfied: ipython==7.34.0 in /usr/local/lib/python3.10/dist-packages (from -r requirements.txt (line 221)) (7.34.0)\n",
            "Requirement already satisfied: ipython-genutils==0.2.0 in /usr/local/lib/python3.10/dist-packages (from -r requirements.txt (line 222)) (0.2.0)\n",
            "Requirement already satisfied: ipython-sql==0.5.0 in /usr/local/lib/python3.10/dist-packages (from -r requirements.txt (line 223)) (0.5.0)\n",
            "Requirement already satisfied: ipytree==0.2.2 in /usr/local/lib/python3.10/dist-packages (from -r requirements.txt (line 224)) (0.2.2)\n",
            "Requirement already satisfied: ipywidgets==7.7.1 in /usr/local/lib/python3.10/dist-packages (from -r requirements.txt (line 225)) (7.7.1)\n",
            "Requirement already satisfied: itsdangerous==2.1.2 in /usr/local/lib/python3.10/dist-packages (from -r requirements.txt (line 226)) (2.1.2)\n",
            "Requirement already satisfied: jeepney==0.7.1 in /usr/lib/python3/dist-packages (from -r requirements.txt (line 227)) (0.7.1)\n",
            "Requirement already satisfied: jieba==0.42.1 in /usr/local/lib/python3.10/dist-packages (from -r requirements.txt (line 228)) (0.42.1)\n",
            "Requirement already satisfied: Jinja2==3.1.2 in /usr/local/lib/python3.10/dist-packages (from -r requirements.txt (line 229)) (3.1.2)\n",
            "Requirement already satisfied: joblib==1.3.2 in /usr/local/lib/python3.10/dist-packages (from -r requirements.txt (line 230)) (1.3.2)\n",
            "Collecting jsonpatch==1.33 (from -r requirements.txt (line 231))\n",
            "  Using cached jsonpatch-1.33-py2.py3-none-any.whl (12 kB)\n",
            "Requirement already satisfied: jsonpickle==3.0.2 in /usr/local/lib/python3.10/dist-packages (from -r requirements.txt (line 232)) (3.0.2)\n",
            "Collecting jsonpointer==2.4 (from -r requirements.txt (line 233))\n",
            "  Using cached jsonpointer-2.4-py2.py3-none-any.whl (7.8 kB)\n",
            "Requirement already satisfied: jsonschema==4.19.1 in /usr/local/lib/python3.10/dist-packages (from -r requirements.txt (line 234)) (4.19.1)\n",
            "Requirement already satisfied: jsonschema-specifications==2023.7.1 in /usr/local/lib/python3.10/dist-packages (from -r requirements.txt (line 235)) (2023.7.1)\n",
            "Requirement already satisfied: jupyter-client==6.1.12 in /usr/local/lib/python3.10/dist-packages (from -r requirements.txt (line 236)) (6.1.12)\n",
            "Requirement already satisfied: jupyter-console==6.1.0 in /usr/local/lib/python3.10/dist-packages (from -r requirements.txt (line 237)) (6.1.0)\n",
            "Requirement already satisfied: jupyter-server==1.24.0 in /usr/local/lib/python3.10/dist-packages (from -r requirements.txt (line 238)) (1.24.0)\n",
            "Requirement already satisfied: jupyter_core==5.3.2 in /usr/local/lib/python3.10/dist-packages (from -r requirements.txt (line 239)) (5.3.2)\n",
            "Requirement already satisfied: jupyterlab-pygments==0.2.2 in /usr/local/lib/python3.10/dist-packages (from -r requirements.txt (line 240)) (0.2.2)\n",
            "Requirement already satisfied: jupyterlab-widgets==3.0.9 in /usr/local/lib/python3.10/dist-packages (from -r requirements.txt (line 241)) (3.0.9)\n",
            "Requirement already satisfied: kaggle==1.5.16 in /usr/local/lib/python3.10/dist-packages (from -r requirements.txt (line 242)) (1.5.16)\n",
            "Requirement already satisfied: keras==2.13.1 in /usr/local/lib/python3.10/dist-packages (from -r requirements.txt (line 243)) (2.13.1)\n",
            "Requirement already satisfied: keyring==23.5.0 in /usr/lib/python3/dist-packages (from -r requirements.txt (line 244)) (23.5.0)\n",
            "Requirement already satisfied: kiwisolver==1.4.5 in /usr/local/lib/python3.10/dist-packages (from -r requirements.txt (line 245)) (1.4.5)\n",
            "\u001b[31mERROR: Cannot install langchain==0.0.267 and langchain==0.0.306 because these package versions have conflicting dependencies.\u001b[0m\u001b[31m\n",
            "\u001b[0m\n",
            "The conflict is caused by:\n",
            "    The user requested langchain==0.0.267\n",
            "    The user requested langchain==0.0.306\n",
            "\n",
            "To fix this you could try to:\n",
            "1. loosen the range of package versions you've specified\n",
            "2. remove package versions to allow pip attempt to solve the dependency conflict\n",
            "\n",
            "\u001b[31mERROR: ResolutionImpossible: for help visit https://pip.pypa.io/en/latest/topics/dependency-resolution/#dealing-with-dependency-conflicts\u001b[0m\u001b[31m\n",
            "\u001b[0m"
          ]
        }
      ]
    },
    {
      "cell_type": "code",
      "source": [
        "from pyngrok import ngrok\n",
        "\n",
        "ngrok.set_auth_token(\"2UeZlf4EEpyZTqlhhLmBCHsMKP3_6YyVSFbVimDGsicuNCUPg\")"
      ],
      "metadata": {
        "colab": {
          "base_uri": "https://localhost:8080/"
        },
        "id": "YIxIL-de6ucc",
        "outputId": "abe07bbb-cb74-4960-8fc2-6db430c78ce7"
      },
      "execution_count": 10,
      "outputs": [
        {
          "output_type": "stream",
          "name": "stdout",
          "text": []
        }
      ]
    },
    {
      "cell_type": "code",
      "source": [
        "!nohup streamlit run app.py --server.port 80 &"
      ],
      "metadata": {
        "colab": {
          "base_uri": "https://localhost:8080/",
          "height": 580
        },
        "id": "I_HMDVzg9tp6",
        "outputId": "c572b643-609b-4cae-f8fc-c6e50924c46e"
      },
      "execution_count": 13,
      "outputs": [
        {
          "output_type": "stream",
          "name": "stdout",
          "text": [
            "nohup: appending output to 'nohup.out'\n",
            "nohup: failed to run command 'streamlit': No such file or directory\n"
          ]
        },
        {
          "output_type": "stream",
          "name": "stderr",
          "text": [
            "WARNING:pyngrok.process.ngrok:t=2023-10-04T13:56:00+0000 lvl=warn msg=\"invalid tunnel configuration\" pg=/api/tunnels id=7c5e23df15efe1e1 err=\"yaml: unmarshal errors:\\n  line 1: field port not found in type config.HTTPv2Tunnel\"\n"
          ]
        },
        {
          "output_type": "error",
          "ename": "PyngrokNgrokHTTPError",
          "evalue": "ignored",
          "traceback": [
            "\u001b[0;31m---------------------------------------------------------------------------\u001b[0m",
            "\u001b[0;31mHTTPError\u001b[0m                                 Traceback (most recent call last)",
            "\u001b[0;32m/usr/local/lib/python3.10/dist-packages/pyngrok/ngrok.py\u001b[0m in \u001b[0;36mapi_request\u001b[0;34m(url, method, data, params, timeout, auth)\u001b[0m\n\u001b[1;32m    506\u001b[0m     \u001b[0;32mtry\u001b[0m\u001b[0;34m:\u001b[0m\u001b[0;34m\u001b[0m\u001b[0;34m\u001b[0m\u001b[0m\n\u001b[0;32m--> 507\u001b[0;31m         \u001b[0mresponse\u001b[0m \u001b[0;34m=\u001b[0m \u001b[0murlopen\u001b[0m\u001b[0;34m(\u001b[0m\u001b[0mrequest\u001b[0m\u001b[0;34m,\u001b[0m \u001b[0mencoded_data\u001b[0m\u001b[0;34m,\u001b[0m \u001b[0mtimeout\u001b[0m\u001b[0;34m)\u001b[0m\u001b[0;34m\u001b[0m\u001b[0;34m\u001b[0m\u001b[0m\n\u001b[0m\u001b[1;32m    508\u001b[0m         \u001b[0mresponse_data\u001b[0m \u001b[0;34m=\u001b[0m \u001b[0mresponse\u001b[0m\u001b[0;34m.\u001b[0m\u001b[0mread\u001b[0m\u001b[0;34m(\u001b[0m\u001b[0;34m)\u001b[0m\u001b[0;34m.\u001b[0m\u001b[0mdecode\u001b[0m\u001b[0;34m(\u001b[0m\u001b[0;34m\"utf-8\"\u001b[0m\u001b[0;34m)\u001b[0m\u001b[0;34m\u001b[0m\u001b[0;34m\u001b[0m\u001b[0m\n",
            "\u001b[0;32m/usr/lib/python3.10/urllib/request.py\u001b[0m in \u001b[0;36murlopen\u001b[0;34m(url, data, timeout, cafile, capath, cadefault, context)\u001b[0m\n\u001b[1;32m    215\u001b[0m         \u001b[0mopener\u001b[0m \u001b[0;34m=\u001b[0m \u001b[0m_opener\u001b[0m\u001b[0;34m\u001b[0m\u001b[0;34m\u001b[0m\u001b[0m\n\u001b[0;32m--> 216\u001b[0;31m     \u001b[0;32mreturn\u001b[0m \u001b[0mopener\u001b[0m\u001b[0;34m.\u001b[0m\u001b[0mopen\u001b[0m\u001b[0;34m(\u001b[0m\u001b[0murl\u001b[0m\u001b[0;34m,\u001b[0m \u001b[0mdata\u001b[0m\u001b[0;34m,\u001b[0m \u001b[0mtimeout\u001b[0m\u001b[0;34m)\u001b[0m\u001b[0;34m\u001b[0m\u001b[0;34m\u001b[0m\u001b[0m\n\u001b[0m\u001b[1;32m    217\u001b[0m \u001b[0;34m\u001b[0m\u001b[0m\n",
            "\u001b[0;32m/usr/lib/python3.10/urllib/request.py\u001b[0m in \u001b[0;36mopen\u001b[0;34m(self, fullurl, data, timeout)\u001b[0m\n\u001b[1;32m    524\u001b[0m             \u001b[0mmeth\u001b[0m \u001b[0;34m=\u001b[0m \u001b[0mgetattr\u001b[0m\u001b[0;34m(\u001b[0m\u001b[0mprocessor\u001b[0m\u001b[0;34m,\u001b[0m \u001b[0mmeth_name\u001b[0m\u001b[0;34m)\u001b[0m\u001b[0;34m\u001b[0m\u001b[0;34m\u001b[0m\u001b[0m\n\u001b[0;32m--> 525\u001b[0;31m             \u001b[0mresponse\u001b[0m \u001b[0;34m=\u001b[0m \u001b[0mmeth\u001b[0m\u001b[0;34m(\u001b[0m\u001b[0mreq\u001b[0m\u001b[0;34m,\u001b[0m \u001b[0mresponse\u001b[0m\u001b[0;34m)\u001b[0m\u001b[0;34m\u001b[0m\u001b[0;34m\u001b[0m\u001b[0m\n\u001b[0m\u001b[1;32m    526\u001b[0m \u001b[0;34m\u001b[0m\u001b[0m\n",
            "\u001b[0;32m/usr/lib/python3.10/urllib/request.py\u001b[0m in \u001b[0;36mhttp_response\u001b[0;34m(self, request, response)\u001b[0m\n\u001b[1;32m    633\u001b[0m         \u001b[0;32mif\u001b[0m \u001b[0;32mnot\u001b[0m \u001b[0;34m(\u001b[0m\u001b[0;36m200\u001b[0m \u001b[0;34m<=\u001b[0m \u001b[0mcode\u001b[0m \u001b[0;34m<\u001b[0m \u001b[0;36m300\u001b[0m\u001b[0;34m)\u001b[0m\u001b[0;34m:\u001b[0m\u001b[0;34m\u001b[0m\u001b[0;34m\u001b[0m\u001b[0m\n\u001b[0;32m--> 634\u001b[0;31m             response = self.parent.error(\n\u001b[0m\u001b[1;32m    635\u001b[0m                 'http', request, response, code, msg, hdrs)\n",
            "\u001b[0;32m/usr/lib/python3.10/urllib/request.py\u001b[0m in \u001b[0;36merror\u001b[0;34m(self, proto, *args)\u001b[0m\n\u001b[1;32m    562\u001b[0m             \u001b[0margs\u001b[0m \u001b[0;34m=\u001b[0m \u001b[0;34m(\u001b[0m\u001b[0mdict\u001b[0m\u001b[0;34m,\u001b[0m \u001b[0;34m'default'\u001b[0m\u001b[0;34m,\u001b[0m \u001b[0;34m'http_error_default'\u001b[0m\u001b[0;34m)\u001b[0m \u001b[0;34m+\u001b[0m \u001b[0morig_args\u001b[0m\u001b[0;34m\u001b[0m\u001b[0;34m\u001b[0m\u001b[0m\n\u001b[0;32m--> 563\u001b[0;31m             \u001b[0;32mreturn\u001b[0m \u001b[0mself\u001b[0m\u001b[0;34m.\u001b[0m\u001b[0m_call_chain\u001b[0m\u001b[0;34m(\u001b[0m\u001b[0;34m*\u001b[0m\u001b[0margs\u001b[0m\u001b[0;34m)\u001b[0m\u001b[0;34m\u001b[0m\u001b[0;34m\u001b[0m\u001b[0m\n\u001b[0m\u001b[1;32m    564\u001b[0m \u001b[0;34m\u001b[0m\u001b[0m\n",
            "\u001b[0;32m/usr/lib/python3.10/urllib/request.py\u001b[0m in \u001b[0;36m_call_chain\u001b[0;34m(self, chain, kind, meth_name, *args)\u001b[0m\n\u001b[1;32m    495\u001b[0m             \u001b[0mfunc\u001b[0m \u001b[0;34m=\u001b[0m \u001b[0mgetattr\u001b[0m\u001b[0;34m(\u001b[0m\u001b[0mhandler\u001b[0m\u001b[0;34m,\u001b[0m \u001b[0mmeth_name\u001b[0m\u001b[0;34m)\u001b[0m\u001b[0;34m\u001b[0m\u001b[0;34m\u001b[0m\u001b[0m\n\u001b[0;32m--> 496\u001b[0;31m             \u001b[0mresult\u001b[0m \u001b[0;34m=\u001b[0m \u001b[0mfunc\u001b[0m\u001b[0;34m(\u001b[0m\u001b[0;34m*\u001b[0m\u001b[0margs\u001b[0m\u001b[0;34m)\u001b[0m\u001b[0;34m\u001b[0m\u001b[0;34m\u001b[0m\u001b[0m\n\u001b[0m\u001b[1;32m    497\u001b[0m             \u001b[0;32mif\u001b[0m \u001b[0mresult\u001b[0m \u001b[0;32mis\u001b[0m \u001b[0;32mnot\u001b[0m \u001b[0;32mNone\u001b[0m\u001b[0;34m:\u001b[0m\u001b[0;34m\u001b[0m\u001b[0;34m\u001b[0m\u001b[0m\n",
            "\u001b[0;32m/usr/lib/python3.10/urllib/request.py\u001b[0m in \u001b[0;36mhttp_error_default\u001b[0;34m(self, req, fp, code, msg, hdrs)\u001b[0m\n\u001b[1;32m    642\u001b[0m     \u001b[0;32mdef\u001b[0m \u001b[0mhttp_error_default\u001b[0m\u001b[0;34m(\u001b[0m\u001b[0mself\u001b[0m\u001b[0;34m,\u001b[0m \u001b[0mreq\u001b[0m\u001b[0;34m,\u001b[0m \u001b[0mfp\u001b[0m\u001b[0;34m,\u001b[0m \u001b[0mcode\u001b[0m\u001b[0;34m,\u001b[0m \u001b[0mmsg\u001b[0m\u001b[0;34m,\u001b[0m \u001b[0mhdrs\u001b[0m\u001b[0;34m)\u001b[0m\u001b[0;34m:\u001b[0m\u001b[0;34m\u001b[0m\u001b[0;34m\u001b[0m\u001b[0m\n\u001b[0;32m--> 643\u001b[0;31m         \u001b[0;32mraise\u001b[0m \u001b[0mHTTPError\u001b[0m\u001b[0;34m(\u001b[0m\u001b[0mreq\u001b[0m\u001b[0;34m.\u001b[0m\u001b[0mfull_url\u001b[0m\u001b[0;34m,\u001b[0m \u001b[0mcode\u001b[0m\u001b[0;34m,\u001b[0m \u001b[0mmsg\u001b[0m\u001b[0;34m,\u001b[0m \u001b[0mhdrs\u001b[0m\u001b[0;34m,\u001b[0m \u001b[0mfp\u001b[0m\u001b[0;34m)\u001b[0m\u001b[0;34m\u001b[0m\u001b[0;34m\u001b[0m\u001b[0m\n\u001b[0m\u001b[1;32m    644\u001b[0m \u001b[0;34m\u001b[0m\u001b[0m\n",
            "\u001b[0;31mHTTPError\u001b[0m: HTTP Error 400: Bad Request",
            "\nDuring handling of the above exception, another exception occurred:\n",
            "\u001b[0;31mPyngrokNgrokHTTPError\u001b[0m                     Traceback (most recent call last)",
            "\u001b[0;32m<ipython-input-13-d00aef0b9c7b>\u001b[0m in \u001b[0;36m<cell line: 2>\u001b[0;34m()\u001b[0m\n\u001b[1;32m      1\u001b[0m \u001b[0mget_ipython\u001b[0m\u001b[0;34m(\u001b[0m\u001b[0;34m)\u001b[0m\u001b[0;34m.\u001b[0m\u001b[0msystem\u001b[0m\u001b[0;34m(\u001b[0m\u001b[0;34m'nohup streamlit run app.py --server.port 80 &'\u001b[0m\u001b[0;34m)\u001b[0m\u001b[0;34m\u001b[0m\u001b[0;34m\u001b[0m\u001b[0m\n\u001b[0;32m----> 2\u001b[0;31m \u001b[0murl\u001b[0m \u001b[0;34m=\u001b[0m \u001b[0mngrok\u001b[0m\u001b[0;34m.\u001b[0m\u001b[0mconnect\u001b[0m\u001b[0;34m(\u001b[0m\u001b[0mport\u001b[0m \u001b[0;34m=\u001b[0m \u001b[0;34m'80'\u001b[0m\u001b[0;34m)\u001b[0m\u001b[0;34m\u001b[0m\u001b[0;34m\u001b[0m\u001b[0m\n\u001b[0m\u001b[1;32m      3\u001b[0m \u001b[0mprint\u001b[0m\u001b[0;34m(\u001b[0m\u001b[0murl\u001b[0m\u001b[0;34m)\u001b[0m\u001b[0;34m\u001b[0m\u001b[0;34m\u001b[0m\u001b[0m\n",
            "\u001b[0;32m/usr/local/lib/python3.10/dist-packages/pyngrok/ngrok.py\u001b[0m in \u001b[0;36mconnect\u001b[0;34m(addr, proto, name, pyngrok_config, **options)\u001b[0m\n\u001b[1;32m    311\u001b[0m     \u001b[0mlogger\u001b[0m\u001b[0;34m.\u001b[0m\u001b[0mdebug\u001b[0m\u001b[0;34m(\u001b[0m\u001b[0;34m\"Creating tunnel with options: {}\"\u001b[0m\u001b[0;34m.\u001b[0m\u001b[0mformat\u001b[0m\u001b[0;34m(\u001b[0m\u001b[0moptions\u001b[0m\u001b[0;34m)\u001b[0m\u001b[0;34m)\u001b[0m\u001b[0;34m\u001b[0m\u001b[0;34m\u001b[0m\u001b[0m\n\u001b[1;32m    312\u001b[0m \u001b[0;34m\u001b[0m\u001b[0m\n\u001b[0;32m--> 313\u001b[0;31m     tunnel = NgrokTunnel(api_request(\"{}/api/tunnels\".format(api_url), method=\"POST\", data=options,\n\u001b[0m\u001b[1;32m    314\u001b[0m                                      timeout=pyngrok_config.request_timeout),\n\u001b[1;32m    315\u001b[0m                          pyngrok_config, api_url)\n",
            "\u001b[0;32m/usr/local/lib/python3.10/dist-packages/pyngrok/ngrok.py\u001b[0m in \u001b[0;36mapi_request\u001b[0;34m(url, method, data, params, timeout, auth)\u001b[0m\n\u001b[1;32m    526\u001b[0m         \u001b[0mlogger\u001b[0m\u001b[0;34m.\u001b[0m\u001b[0mdebug\u001b[0m\u001b[0;34m(\u001b[0m\u001b[0;34m\"Response {}: {}\"\u001b[0m\u001b[0;34m.\u001b[0m\u001b[0mformat\u001b[0m\u001b[0;34m(\u001b[0m\u001b[0mstatus_code\u001b[0m\u001b[0;34m,\u001b[0m \u001b[0mresponse_data\u001b[0m\u001b[0;34m.\u001b[0m\u001b[0mstrip\u001b[0m\u001b[0;34m(\u001b[0m\u001b[0;34m)\u001b[0m\u001b[0;34m)\u001b[0m\u001b[0;34m)\u001b[0m\u001b[0;34m\u001b[0m\u001b[0;34m\u001b[0m\u001b[0m\n\u001b[1;32m    527\u001b[0m \u001b[0;34m\u001b[0m\u001b[0m\n\u001b[0;32m--> 528\u001b[0;31m         raise PyngrokNgrokHTTPError(\"ngrok client exception, API returned {}: {}\".format(status_code, response_data),\n\u001b[0m\u001b[1;32m    529\u001b[0m                                     \u001b[0me\u001b[0m\u001b[0;34m.\u001b[0m\u001b[0murl\u001b[0m\u001b[0;34m,\u001b[0m\u001b[0;34m\u001b[0m\u001b[0;34m\u001b[0m\u001b[0m\n\u001b[1;32m    530\u001b[0m                                     status_code, e.reason, e.headers, response_data)\n",
            "\u001b[0;31mPyngrokNgrokHTTPError\u001b[0m: ngrok client exception, API returned 400: {\"error_code\":102,\"status_code\":400,\"msg\":\"invalid tunnel configuration\",\"details\":{\"err\":\"yaml: unmarshal errors:\\n  line 1: field port not found in type config.HTTPv2Tunnel\"}}\n"
          ]
        }
      ]
    },
    {
      "cell_type": "code",
      "source": [],
      "metadata": {
        "id": "BEm_Ey2w9x6O"
      },
      "execution_count": null,
      "outputs": []
    }
  ]
}